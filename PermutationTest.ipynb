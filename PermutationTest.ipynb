{
  "nbformat": 4,
  "nbformat_minor": 0,
  "metadata": {
    "colab": {
      "name": "PermutationTest.ipynb",
      "provenance": [],
      "toc_visible": true,
      "authorship_tag": "ABX9TyN6oZYBeYotmL+kQCSpereK"
    },
    "kernelspec": {
      "name": "python3",
      "display_name": "Python 3"
    },
    "language_info": {
      "name": "python"
    },
    "accelerator": "GPU"
  },
  "cells": [
    {
      "cell_type": "code",
      "metadata": {
        "id": "XT6otu8T4fjN"
      },
      "source": [
        "import numpy as np"
      ],
      "execution_count": 19,
      "outputs": []
    },
    {
      "cell_type": "code",
      "metadata": {
        "id": "ZteNODsL4h2-"
      },
      "source": [
        "s1 = np.array([-0.68342059, -1.62007501,  0.20616105, -0.31396595,  0.06042358,  1.56932081, -1.05843064, -0.14248775, -1.25856679, -0.03991229])#  0.21078193, -0.34148978, -0.40676500, -0.06822226, -0.68330513])\n",
        "s2 = np.array([1.46715610,  1.91529416, -0.64552670,  1.55459744, -0.02975683,  0.45446882, -0.45892345,  0.17213973, -0.23044782, -1.70239777])#  0.57720207, -0.76078670,  0.98492229,  0.34963806, -1.20061841])"
      ],
      "execution_count": 20,
      "outputs": []
    },
    {
      "cell_type": "code",
      "metadata": {
        "id": "o4POyVBX4_3D"
      },
      "source": [
        "pool = np.concatenate((s1, s2))"
      ],
      "execution_count": 21,
      "outputs": []
    },
    {
      "cell_type": "code",
      "metadata": {
        "id": "UNqUPELV582o"
      },
      "source": [
        "n = s1.size\n",
        "m = s2.size"
      ],
      "execution_count": 22,
      "outputs": []
    },
    {
      "cell_type": "code",
      "metadata": {
        "id": "2GVZ3YSF6GJv"
      },
      "source": [
        "dist = []"
      ],
      "execution_count": 23,
      "outputs": []
    },
    {
      "cell_type": "code",
      "metadata": {
        "id": "8Ccu7cHx9aiE"
      },
      "source": [
        "def powerset(seq):\n",
        "    if len(seq) <= 1:\n",
        "        yield seq\n",
        "        yield []\n",
        "    else:\n",
        "        for item in powerset(seq[1:]):\n",
        "            yield [seq[0]]+item\n",
        "            yield item"
      ],
      "execution_count": 24,
      "outputs": []
    },
    {
      "cell_type": "code",
      "metadata": {
        "id": "mcyb1sOo9bF9"
      },
      "source": [
        " l = [x+1 for x in range(n + m)]\n",
        " powerset_of_integers = [x for x in powerset(l)]"
      ],
      "execution_count": 25,
      "outputs": []
    },
    {
      "cell_type": "code",
      "metadata": {
        "id": "rt_afMQ49mPX"
      },
      "source": [
        "stat = (s1.mean() - s2.mean()) / np.sqrt(s1.var()/ n + s2.var()/m) #test statistic"
      ],
      "execution_count": 26,
      "outputs": []
    },
    {
      "cell_type": "code",
      "metadata": {
        "id": "ARybmTUl_cHB"
      },
      "source": [
        "s1prime =[]\n",
        "s2prime = []"
      ],
      "execution_count": 27,
      "outputs": []
    },
    {
      "cell_type": "code",
      "metadata": {
        "id": "wzBNvl1yG6EK"
      },
      "source": [
        "def splitting(l1, l2):\n",
        "  l3 = []\n",
        "  for i in l2:\n",
        "    l3.append(l1[i - 1])\n",
        "\n",
        "  l4 = list(set(l1) - set(l3))\n",
        "\n",
        "  return l3, l4"
      ],
      "execution_count": 28,
      "outputs": []
    },
    {
      "cell_type": "code",
      "metadata": {
        "id": "LYdL3SaB-whC"
      },
      "source": [
        "for comb in powerset_of_integers:\n",
        "  if len(comb) == n:\n",
        "    x, y = splitting(pool, comb)\n",
        "    s1prime = np.array(x)\n",
        "    s2prime = np.array(y)\n",
        "    dist.append((s1prime.mean() - s2prime.mean()) / np.sqrt(s1prime.var()/ n + s2prime.var()/m)) #change it for appropriate test statistic\n",
        "    s1prime = []\n",
        "    s2prime = []\n",
        "\n"
      ],
      "execution_count": 29,
      "outputs": []
    },
    {
      "cell_type": "code",
      "metadata": {
        "id": "1kHCieB9H0ZR"
      },
      "source": [
        "averageDist = np.array(dist).mean()"
      ],
      "execution_count": 30,
      "outputs": []
    },
    {
      "cell_type": "code",
      "metadata": {
        "id": "Qq89R3_DLJca"
      },
      "source": [
        "stat = stat - averageDist"
      ],
      "execution_count": 31,
      "outputs": []
    },
    {
      "cell_type": "code",
      "metadata": {
        "id": "gnpg7HS-LTr0"
      },
      "source": [
        "for i in range(len(dist)):\n",
        "  dist[i] = dist[i] - averageDist"
      ],
      "execution_count": 32,
      "outputs": []
    },
    {
      "cell_type": "code",
      "metadata": {
        "id": "DM9wLC3gLyT-"
      },
      "source": [
        "dist2 = []\n",
        "for i in range(len(dist)):\n",
        "  if abs(dist[i] >= stat):\n",
        "    dist2.append(dist[i])"
      ],
      "execution_count": 33,
      "outputs": []
    },
    {
      "cell_type": "code",
      "metadata": {
        "id": "Qkg9gteMNDjU"
      },
      "source": [
        "p = np.array(dist2).mean()"
      ],
      "execution_count": 34,
      "outputs": []
    },
    {
      "cell_type": "code",
      "metadata": {
        "colab": {
          "base_uri": "https://localhost:8080/"
        },
        "id": "uHJfrK7BNKJF",
        "outputId": "01929889-a91b-4a35-d25c-87de52ce14e4"
      },
      "source": [
        "print(\"p-value = {}\".format(p))"
      ],
      "execution_count": 35,
      "outputs": [
        {
          "output_type": "stream",
          "text": [
            "p-value = 0.23943748592601452\n"
          ],
          "name": "stdout"
        }
      ]
    },
    {
      "cell_type": "code",
      "metadata": {
        "id": "eavryvjxNK0O"
      },
      "source": [
        ""
      ],
      "execution_count": null,
      "outputs": []
    }
  ]
}